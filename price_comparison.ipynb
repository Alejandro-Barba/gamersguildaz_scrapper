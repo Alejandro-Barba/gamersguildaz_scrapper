{
 "cells": [
  {
   "cell_type": "code",
   "execution_count": 7,
   "metadata": {},
   "outputs": [],
   "source": [
    "import pandas as pd\n",
    "import numpy as np"
   ]
  },
  {
   "cell_type": "code",
   "execution_count": 8,
   "metadata": {},
   "outputs": [],
   "source": [
    "import pandas as pd\n",
    "import numpy as np\n",
    "\n",
    "df = pd.read_csv('gamersguild_games.csv')\n",
    "# Convert prices to numeric values\n",
    "df['old_price'] = pd.to_numeric(df['old_price'].str.replace('$', ''), errors='coerce')\n",
    "df['current_price'] = pd.to_numeric(df['current_price'].str.replace('$', ''), errors='coerce')\n",
    "\n",
    "# Calculate the discount\n",
    "df['discount'] = np.where(df['old_price'].isnull(), 0, (df['old_price'] - df['current_price']) / df['old_price'])\n",
    "\n",
    "# Sort by the discount column from highest to lowest\n",
    "df_sorted = df.sort_values(by='discount', ascending=False)\n",
    "\n",
    "# Save to a new CSV file\n",
    "df_sorted.to_csv('sorted_products.csv', index=False)\n"
   ]
  }
 ],
 "metadata": {
  "kernelspec": {
   "display_name": ".venv",
   "language": "python",
   "name": "python3"
  },
  "language_info": {
   "codemirror_mode": {
    "name": "ipython",
    "version": 3
   },
   "file_extension": ".py",
   "mimetype": "text/x-python",
   "name": "python",
   "nbconvert_exporter": "python",
   "pygments_lexer": "ipython3",
   "version": "3.11.2"
  }
 },
 "nbformat": 4,
 "nbformat_minor": 2
}
